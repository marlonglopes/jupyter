{
 "cells": [
  {
   "cell_type": "code",
   "execution_count": 122,
   "metadata": {
    "collapsed": false
   },
   "outputs": [],
   "source": [
    "%matplotlib inline\n",
    "import numpy as np\n",
    "np.random.seed(1337) \n",
    "\n",
    "import pandas as pd\n",
    "import numpy as np\n",
    "\n",
    "import matplotlib.pyplot as plt\n",
    "import seaborn as sns\n",
    "from pandas.io.parsers import read_csv\n",
    "\n",
    "sns.set_context(rc={\"figure.figsize\": (10.0, 6.0)})\n",
    "pd.set_option('display.max_columns', 70)\n",
    "\n",
    "from sklearn import preprocessing\n",
    "from sklearn.cross_validation import train_test_split\n",
    "from sklearn.cross_validation import StratifiedShuffleSplit\n",
    "from sklearn.cross_validation import StratifiedKFold\n",
    "\n",
    "from sklearn import linear_model\n",
    "\n",
    "from sklearn.metrics import accuracy_score, f1_score, precision_score\n",
    "from sklearn.metrics import recall_score, classification_report, confusion_matrix\n",
    "\n",
    "from sklearn.metrics import precision_recall_curve\n",
    "from sklearn.metrics import average_precision_score\n",
    "from sklearn.metrics import roc_curve, auc\n",
    "from sklearn.neighbors import KNeighborsClassifier\n",
    "\n",
    "import xgboost as xgb\n",
    "from sklearn import svm"
   ]
  },
  {
   "cell_type": "code",
   "execution_count": 2,
   "metadata": {
    "collapsed": false
   },
   "outputs": [],
   "source": [
    "# window_n.dsv\n",
    "df_data = read_csv(\"window_n.dsv\", sep=\";\", decimal=\",\")"
   ]
  },
  {
   "cell_type": "code",
   "execution_count": 3,
   "metadata": {
    "collapsed": false
   },
   "outputs": [
    {
     "data": {
      "text/plain": [
       "ID                             int64\n",
       "PRESS_CHASSIS_KEY              int64\n",
       "W_START_DAY                   object\n",
       "FAILURE                        int64\n",
       "MIN_AVG_INK_PRESSURE         float64\n",
       "MAX_AVG_INK_PRESSURE         float64\n",
       "AVG_AVG_INK_PRESSURE         float64\n",
       "STD_AVG_INK_PRESSURE         float64\n",
       "VARIANCE_AVG_INK_PRESSURE    float64\n",
       "MIN_AVG_SPEED                float64\n",
       "MAX_AVG_SPEED                float64\n",
       "AVG_AVG_SPEED                float64\n",
       "STD_AVG_SPEED                float64\n",
       "VARIANCE_AVG_SPEED           float64\n",
       "MIN_MAX_SPEED                float64\n",
       "MAX_MAX_SPEED                float64\n",
       "AVG_MAX_SPEED                float64\n",
       "STD_MAX_SPEED                float64\n",
       "VARIANCE_MAX_SPEED           float64\n",
       "dtype: object"
      ]
     },
     "execution_count": 3,
     "metadata": {},
     "output_type": "execute_result"
    }
   ],
   "source": [
    "df_data.dtypes"
   ]
  },
  {
   "cell_type": "code",
   "execution_count": 4,
   "metadata": {
    "collapsed": false
   },
   "outputs": [
    {
     "data": {
      "text/plain": [
       "ID                           27091\n",
       "PRESS_CHASSIS_KEY            27091\n",
       "W_START_DAY                  27091\n",
       "FAILURE                      27091\n",
       "MIN_AVG_INK_PRESSURE         27091\n",
       "MAX_AVG_INK_PRESSURE         27091\n",
       "AVG_AVG_INK_PRESSURE         27091\n",
       "STD_AVG_INK_PRESSURE         27091\n",
       "VARIANCE_AVG_INK_PRESSURE    27091\n",
       "MIN_AVG_SPEED                27091\n",
       "MAX_AVG_SPEED                27091\n",
       "AVG_AVG_SPEED                27091\n",
       "STD_AVG_SPEED                27091\n",
       "VARIANCE_AVG_SPEED           27091\n",
       "MIN_MAX_SPEED                27091\n",
       "MAX_MAX_SPEED                27091\n",
       "AVG_MAX_SPEED                27091\n",
       "STD_MAX_SPEED                27091\n",
       "VARIANCE_MAX_SPEED           27091\n",
       "dtype: int64"
      ]
     },
     "execution_count": 4,
     "metadata": {},
     "output_type": "execute_result"
    }
   ],
   "source": [
    "df_data.count()"
   ]
  },
  {
   "cell_type": "code",
   "execution_count": 5,
   "metadata": {
    "collapsed": false
   },
   "outputs": [
    {
     "data": {
      "text/html": [
       "<div>\n",
       "<table border=\"1\" class=\"dataframe\">\n",
       "  <thead>\n",
       "    <tr style=\"text-align: right;\">\n",
       "      <th></th>\n",
       "      <th>ID</th>\n",
       "      <th>PRESS_CHASSIS_KEY</th>\n",
       "      <th>W_START_DAY</th>\n",
       "      <th>FAILURE</th>\n",
       "      <th>MIN_AVG_INK_PRESSURE</th>\n",
       "      <th>MAX_AVG_INK_PRESSURE</th>\n",
       "      <th>AVG_AVG_INK_PRESSURE</th>\n",
       "      <th>STD_AVG_INK_PRESSURE</th>\n",
       "      <th>VARIANCE_AVG_INK_PRESSURE</th>\n",
       "      <th>MIN_AVG_SPEED</th>\n",
       "      <th>MAX_AVG_SPEED</th>\n",
       "      <th>AVG_AVG_SPEED</th>\n",
       "      <th>STD_AVG_SPEED</th>\n",
       "      <th>VARIANCE_AVG_SPEED</th>\n",
       "      <th>MIN_MAX_SPEED</th>\n",
       "      <th>MAX_MAX_SPEED</th>\n",
       "      <th>AVG_MAX_SPEED</th>\n",
       "      <th>STD_MAX_SPEED</th>\n",
       "      <th>VARIANCE_MAX_SPEED</th>\n",
       "    </tr>\n",
       "  </thead>\n",
       "  <tbody>\n",
       "    <tr>\n",
       "      <th>0</th>\n",
       "      <td>17277</td>\n",
       "      <td>14</td>\n",
       "      <td>01/01/14</td>\n",
       "      <td>0</td>\n",
       "      <td>6.993622</td>\n",
       "      <td>6.993622</td>\n",
       "      <td>6.993622</td>\n",
       "      <td>0</td>\n",
       "      <td>0</td>\n",
       "      <td>28.832738</td>\n",
       "      <td>28.832738</td>\n",
       "      <td>28.832738</td>\n",
       "      <td>1.118034e-18</td>\n",
       "      <td>1.250000e-36</td>\n",
       "      <td>30.185222</td>\n",
       "      <td>30.185222</td>\n",
       "      <td>30.185222</td>\n",
       "      <td>0</td>\n",
       "      <td>0</td>\n",
       "    </tr>\n",
       "    <tr>\n",
       "      <th>1</th>\n",
       "      <td>17850</td>\n",
       "      <td>14</td>\n",
       "      <td>02/01/14</td>\n",
       "      <td>0</td>\n",
       "      <td>6.993622</td>\n",
       "      <td>6.993622</td>\n",
       "      <td>6.993622</td>\n",
       "      <td>0</td>\n",
       "      <td>0</td>\n",
       "      <td>28.832738</td>\n",
       "      <td>28.832738</td>\n",
       "      <td>28.832738</td>\n",
       "      <td>1.118034e-18</td>\n",
       "      <td>1.250000e-36</td>\n",
       "      <td>30.185222</td>\n",
       "      <td>30.185222</td>\n",
       "      <td>30.185222</td>\n",
       "      <td>0</td>\n",
       "      <td>0</td>\n",
       "    </tr>\n",
       "    <tr>\n",
       "      <th>2</th>\n",
       "      <td>17278</td>\n",
       "      <td>14</td>\n",
       "      <td>03/01/14</td>\n",
       "      <td>0</td>\n",
       "      <td>6.993622</td>\n",
       "      <td>6.993622</td>\n",
       "      <td>6.993622</td>\n",
       "      <td>0</td>\n",
       "      <td>0</td>\n",
       "      <td>28.832738</td>\n",
       "      <td>28.832738</td>\n",
       "      <td>28.832738</td>\n",
       "      <td>1.118034e-18</td>\n",
       "      <td>1.250000e-36</td>\n",
       "      <td>30.185222</td>\n",
       "      <td>30.185222</td>\n",
       "      <td>30.185222</td>\n",
       "      <td>0</td>\n",
       "      <td>0</td>\n",
       "    </tr>\n",
       "    <tr>\n",
       "      <th>3</th>\n",
       "      <td>17822</td>\n",
       "      <td>14</td>\n",
       "      <td>04/01/14</td>\n",
       "      <td>0</td>\n",
       "      <td>6.993622</td>\n",
       "      <td>6.993622</td>\n",
       "      <td>6.993622</td>\n",
       "      <td>0</td>\n",
       "      <td>0</td>\n",
       "      <td>28.832738</td>\n",
       "      <td>28.832738</td>\n",
       "      <td>28.832738</td>\n",
       "      <td>1.118034e-18</td>\n",
       "      <td>1.250000e-36</td>\n",
       "      <td>30.185222</td>\n",
       "      <td>30.185222</td>\n",
       "      <td>30.185222</td>\n",
       "      <td>0</td>\n",
       "      <td>0</td>\n",
       "    </tr>\n",
       "    <tr>\n",
       "      <th>4</th>\n",
       "      <td>2694</td>\n",
       "      <td>14</td>\n",
       "      <td>05/01/14</td>\n",
       "      <td>0</td>\n",
       "      <td>6.993622</td>\n",
       "      <td>6.993622</td>\n",
       "      <td>6.993622</td>\n",
       "      <td>0</td>\n",
       "      <td>0</td>\n",
       "      <td>28.832738</td>\n",
       "      <td>28.832738</td>\n",
       "      <td>28.832738</td>\n",
       "      <td>1.118034e-18</td>\n",
       "      <td>1.250000e-36</td>\n",
       "      <td>30.185222</td>\n",
       "      <td>30.185222</td>\n",
       "      <td>30.185222</td>\n",
       "      <td>0</td>\n",
       "      <td>0</td>\n",
       "    </tr>\n",
       "  </tbody>\n",
       "</table>\n",
       "</div>"
      ],
      "text/plain": [
       "      ID  PRESS_CHASSIS_KEY W_START_DAY  FAILURE  MIN_AVG_INK_PRESSURE  \\\n",
       "0  17277                 14    01/01/14        0              6.993622   \n",
       "1  17850                 14    02/01/14        0              6.993622   \n",
       "2  17278                 14    03/01/14        0              6.993622   \n",
       "3  17822                 14    04/01/14        0              6.993622   \n",
       "4   2694                 14    05/01/14        0              6.993622   \n",
       "\n",
       "   MAX_AVG_INK_PRESSURE  AVG_AVG_INK_PRESSURE  STD_AVG_INK_PRESSURE  \\\n",
       "0              6.993622              6.993622                     0   \n",
       "1              6.993622              6.993622                     0   \n",
       "2              6.993622              6.993622                     0   \n",
       "3              6.993622              6.993622                     0   \n",
       "4              6.993622              6.993622                     0   \n",
       "\n",
       "   VARIANCE_AVG_INK_PRESSURE  MIN_AVG_SPEED  MAX_AVG_SPEED  AVG_AVG_SPEED  \\\n",
       "0                          0      28.832738      28.832738      28.832738   \n",
       "1                          0      28.832738      28.832738      28.832738   \n",
       "2                          0      28.832738      28.832738      28.832738   \n",
       "3                          0      28.832738      28.832738      28.832738   \n",
       "4                          0      28.832738      28.832738      28.832738   \n",
       "\n",
       "   STD_AVG_SPEED  VARIANCE_AVG_SPEED  MIN_MAX_SPEED  MAX_MAX_SPEED  \\\n",
       "0   1.118034e-18        1.250000e-36      30.185222      30.185222   \n",
       "1   1.118034e-18        1.250000e-36      30.185222      30.185222   \n",
       "2   1.118034e-18        1.250000e-36      30.185222      30.185222   \n",
       "3   1.118034e-18        1.250000e-36      30.185222      30.185222   \n",
       "4   1.118034e-18        1.250000e-36      30.185222      30.185222   \n",
       "\n",
       "   AVG_MAX_SPEED  STD_MAX_SPEED  VARIANCE_MAX_SPEED  \n",
       "0      30.185222              0                   0  \n",
       "1      30.185222              0                   0  \n",
       "2      30.185222              0                   0  \n",
       "3      30.185222              0                   0  \n",
       "4      30.185222              0                   0  "
      ]
     },
     "execution_count": 5,
     "metadata": {},
     "output_type": "execute_result"
    }
   ],
   "source": [
    "df_data.head(5)"
   ]
  },
  {
   "cell_type": "code",
   "execution_count": 6,
   "metadata": {
    "collapsed": false
   },
   "outputs": [
    {
     "data": {
      "text/html": [
       "<div>\n",
       "<table border=\"1\" class=\"dataframe\">\n",
       "  <thead>\n",
       "    <tr style=\"text-align: right;\">\n",
       "      <th></th>\n",
       "      <th>ID</th>\n",
       "      <th>PRESS_CHASSIS_KEY</th>\n",
       "      <th>FAILURE</th>\n",
       "      <th>MIN_AVG_INK_PRESSURE</th>\n",
       "      <th>MAX_AVG_INK_PRESSURE</th>\n",
       "      <th>AVG_AVG_INK_PRESSURE</th>\n",
       "      <th>STD_AVG_INK_PRESSURE</th>\n",
       "      <th>VARIANCE_AVG_INK_PRESSURE</th>\n",
       "      <th>MIN_AVG_SPEED</th>\n",
       "      <th>MAX_AVG_SPEED</th>\n",
       "      <th>AVG_AVG_SPEED</th>\n",
       "      <th>STD_AVG_SPEED</th>\n",
       "      <th>VARIANCE_AVG_SPEED</th>\n",
       "      <th>MIN_MAX_SPEED</th>\n",
       "      <th>MAX_MAX_SPEED</th>\n",
       "      <th>AVG_MAX_SPEED</th>\n",
       "      <th>STD_MAX_SPEED</th>\n",
       "      <th>VARIANCE_MAX_SPEED</th>\n",
       "    </tr>\n",
       "  </thead>\n",
       "  <tbody>\n",
       "    <tr>\n",
       "      <th>count</th>\n",
       "      <td>27091.000000</td>\n",
       "      <td>27091.000000</td>\n",
       "      <td>27091.000000</td>\n",
       "      <td>27091.000000</td>\n",
       "      <td>27091.000000</td>\n",
       "      <td>27091.000000</td>\n",
       "      <td>2.709100e+04</td>\n",
       "      <td>2.709100e+04</td>\n",
       "      <td>27091.000000</td>\n",
       "      <td>27091.000000</td>\n",
       "      <td>27091.000000</td>\n",
       "      <td>27091.000000</td>\n",
       "      <td>27091.000000</td>\n",
       "      <td>27091.000000</td>\n",
       "      <td>27091.000000</td>\n",
       "      <td>27091.000000</td>\n",
       "      <td>2.709100e+04</td>\n",
       "      <td>2.709100e+04</td>\n",
       "    </tr>\n",
       "    <tr>\n",
       "      <th>mean</th>\n",
       "      <td>13546.000000</td>\n",
       "      <td>155.301281</td>\n",
       "      <td>0.085748</td>\n",
       "      <td>8.503731</td>\n",
       "      <td>8.699369</td>\n",
       "      <td>8.599317</td>\n",
       "      <td>8.629277e-02</td>\n",
       "      <td>1.548875e-01</td>\n",
       "      <td>26.265273</td>\n",
       "      <td>26.815550</td>\n",
       "      <td>26.542229</td>\n",
       "      <td>0.235587</td>\n",
       "      <td>1.052954</td>\n",
       "      <td>27.036806</td>\n",
       "      <td>27.710913</td>\n",
       "      <td>27.363093</td>\n",
       "      <td>2.882868e-01</td>\n",
       "      <td>1.074631e+00</td>\n",
       "    </tr>\n",
       "    <tr>\n",
       "      <th>std</th>\n",
       "      <td>7820.642408</td>\n",
       "      <td>156.518464</td>\n",
       "      <td>0.279997</td>\n",
       "      <td>1.065061</td>\n",
       "      <td>0.613514</td>\n",
       "      <td>0.804353</td>\n",
       "      <td>3.839876e-01</td>\n",
       "      <td>3.385089e+00</td>\n",
       "      <td>3.997511</td>\n",
       "      <td>4.880485</td>\n",
       "      <td>4.363146</td>\n",
       "      <td>0.998744</td>\n",
       "      <td>20.586358</td>\n",
       "      <td>3.842848</td>\n",
       "      <td>4.744213</td>\n",
       "      <td>4.224951</td>\n",
       "      <td>9.957703e-01</td>\n",
       "      <td>1.991439e+01</td>\n",
       "    </tr>\n",
       "    <tr>\n",
       "      <th>min</th>\n",
       "      <td>1.000000</td>\n",
       "      <td>14.000000</td>\n",
       "      <td>0.000000</td>\n",
       "      <td>-22.000000</td>\n",
       "      <td>-5.946818</td>\n",
       "      <td>-16.007575</td>\n",
       "      <td>0.000000e+00</td>\n",
       "      <td>0.000000e+00</td>\n",
       "      <td>0.100000</td>\n",
       "      <td>19.033333</td>\n",
       "      <td>18.317250</td>\n",
       "      <td>0.000000</td>\n",
       "      <td>0.000000</td>\n",
       "      <td>14.294915</td>\n",
       "      <td>19.456140</td>\n",
       "      <td>19.008131</td>\n",
       "      <td>0.000000e+00</td>\n",
       "      <td>0.000000e+00</td>\n",
       "    </tr>\n",
       "    <tr>\n",
       "      <th>25%</th>\n",
       "      <td>6773.500000</td>\n",
       "      <td>53.000000</td>\n",
       "      <td>0.000000</td>\n",
       "      <td>8.470204</td>\n",
       "      <td>8.495429</td>\n",
       "      <td>8.487315</td>\n",
       "      <td>5.000000e-19</td>\n",
       "      <td>2.500000e-37</td>\n",
       "      <td>23.830714</td>\n",
       "      <td>24.047464</td>\n",
       "      <td>23.856277</td>\n",
       "      <td>0.000000</td>\n",
       "      <td>0.000000</td>\n",
       "      <td>24.623656</td>\n",
       "      <td>25.007212</td>\n",
       "      <td>24.904710</td>\n",
       "      <td>1.936492e-18</td>\n",
       "      <td>3.750000e-36</td>\n",
       "    </tr>\n",
       "    <tr>\n",
       "      <th>50%</th>\n",
       "      <td>13546.000000</td>\n",
       "      <td>93.000000</td>\n",
       "      <td>0.000000</td>\n",
       "      <td>8.487315</td>\n",
       "      <td>8.508215</td>\n",
       "      <td>8.498241</td>\n",
       "      <td>1.019202e-02</td>\n",
       "      <td>1.038772e-04</td>\n",
       "      <td>25.227448</td>\n",
       "      <td>25.637778</td>\n",
       "      <td>25.443862</td>\n",
       "      <td>0.091261</td>\n",
       "      <td>0.008329</td>\n",
       "      <td>26.223614</td>\n",
       "      <td>26.730263</td>\n",
       "      <td>26.420354</td>\n",
       "      <td>1.215884e-01</td>\n",
       "      <td>1.478375e-02</td>\n",
       "    </tr>\n",
       "    <tr>\n",
       "      <th>75%</th>\n",
       "      <td>20318.500000</td>\n",
       "      <td>212.000000</td>\n",
       "      <td>0.000000</td>\n",
       "      <td>8.500461</td>\n",
       "      <td>8.570008</td>\n",
       "      <td>8.534470</td>\n",
       "      <td>3.057698e-02</td>\n",
       "      <td>9.349516e-04</td>\n",
       "      <td>28.690383</td>\n",
       "      <td>29.019241</td>\n",
       "      <td>28.832738</td>\n",
       "      <td>0.206022</td>\n",
       "      <td>0.042445</td>\n",
       "      <td>29.325949</td>\n",
       "      <td>29.853993</td>\n",
       "      <td>29.633290</td>\n",
       "      <td>2.796656e-01</td>\n",
       "      <td>7.821285e-02</td>\n",
       "    </tr>\n",
       "    <tr>\n",
       "      <th>max</th>\n",
       "      <td>27091.000000</td>\n",
       "      <td>576.000000</td>\n",
       "      <td>1.000000</td>\n",
       "      <td>11.218333</td>\n",
       "      <td>11.837500</td>\n",
       "      <td>11.370483</td>\n",
       "      <td>1.267826e+01</td>\n",
       "      <td>1.607384e+02</td>\n",
       "      <td>61.452273</td>\n",
       "      <td>100.000000</td>\n",
       "      <td>85.673219</td>\n",
       "      <td>31.118035</td>\n",
       "      <td>968.332077</td>\n",
       "      <td>64.322727</td>\n",
       "      <td>100.000000</td>\n",
       "      <td>86.988123</td>\n",
       "      <td>3.057015e+01</td>\n",
       "      <td>9.345343e+02</td>\n",
       "    </tr>\n",
       "  </tbody>\n",
       "</table>\n",
       "</div>"
      ],
      "text/plain": [
       "                 ID  PRESS_CHASSIS_KEY       FAILURE  MIN_AVG_INK_PRESSURE  \\\n",
       "count  27091.000000       27091.000000  27091.000000          27091.000000   \n",
       "mean   13546.000000         155.301281      0.085748              8.503731   \n",
       "std     7820.642408         156.518464      0.279997              1.065061   \n",
       "min        1.000000          14.000000      0.000000            -22.000000   \n",
       "25%     6773.500000          53.000000      0.000000              8.470204   \n",
       "50%    13546.000000          93.000000      0.000000              8.487315   \n",
       "75%    20318.500000         212.000000      0.000000              8.500461   \n",
       "max    27091.000000         576.000000      1.000000             11.218333   \n",
       "\n",
       "       MAX_AVG_INK_PRESSURE  AVG_AVG_INK_PRESSURE  STD_AVG_INK_PRESSURE  \\\n",
       "count          27091.000000          27091.000000          2.709100e+04   \n",
       "mean               8.699369              8.599317          8.629277e-02   \n",
       "std                0.613514              0.804353          3.839876e-01   \n",
       "min               -5.946818            -16.007575          0.000000e+00   \n",
       "25%                8.495429              8.487315          5.000000e-19   \n",
       "50%                8.508215              8.498241          1.019202e-02   \n",
       "75%                8.570008              8.534470          3.057698e-02   \n",
       "max               11.837500             11.370483          1.267826e+01   \n",
       "\n",
       "       VARIANCE_AVG_INK_PRESSURE  MIN_AVG_SPEED  MAX_AVG_SPEED  AVG_AVG_SPEED  \\\n",
       "count               2.709100e+04   27091.000000   27091.000000   27091.000000   \n",
       "mean                1.548875e-01      26.265273      26.815550      26.542229   \n",
       "std                 3.385089e+00       3.997511       4.880485       4.363146   \n",
       "min                 0.000000e+00       0.100000      19.033333      18.317250   \n",
       "25%                 2.500000e-37      23.830714      24.047464      23.856277   \n",
       "50%                 1.038772e-04      25.227448      25.637778      25.443862   \n",
       "75%                 9.349516e-04      28.690383      29.019241      28.832738   \n",
       "max                 1.607384e+02      61.452273     100.000000      85.673219   \n",
       "\n",
       "       STD_AVG_SPEED  VARIANCE_AVG_SPEED  MIN_MAX_SPEED  MAX_MAX_SPEED  \\\n",
       "count   27091.000000        27091.000000   27091.000000   27091.000000   \n",
       "mean        0.235587            1.052954      27.036806      27.710913   \n",
       "std         0.998744           20.586358       3.842848       4.744213   \n",
       "min         0.000000            0.000000      14.294915      19.456140   \n",
       "25%         0.000000            0.000000      24.623656      25.007212   \n",
       "50%         0.091261            0.008329      26.223614      26.730263   \n",
       "75%         0.206022            0.042445      29.325949      29.853993   \n",
       "max        31.118035          968.332077      64.322727     100.000000   \n",
       "\n",
       "       AVG_MAX_SPEED  STD_MAX_SPEED  VARIANCE_MAX_SPEED  \n",
       "count   27091.000000   2.709100e+04        2.709100e+04  \n",
       "mean       27.363093   2.882868e-01        1.074631e+00  \n",
       "std         4.224951   9.957703e-01        1.991439e+01  \n",
       "min        19.008131   0.000000e+00        0.000000e+00  \n",
       "25%        24.904710   1.936492e-18        3.750000e-36  \n",
       "50%        26.420354   1.215884e-01        1.478375e-02  \n",
       "75%        29.633290   2.796656e-01        7.821285e-02  \n",
       "max        86.988123   3.057015e+01        9.345343e+02  "
      ]
     },
     "execution_count": 6,
     "metadata": {},
     "output_type": "execute_result"
    }
   ],
   "source": [
    "df_data.describe()"
   ]
  },
  {
   "cell_type": "code",
   "execution_count": 7,
   "metadata": {
    "collapsed": false
   },
   "outputs": [
    {
     "data": {
      "text/plain": [
       "0    24768\n",
       "1     2323\n",
       "Name: FAILURE, dtype: int64"
      ]
     },
     "execution_count": 7,
     "metadata": {},
     "output_type": "execute_result"
    }
   ],
   "source": [
    "df_data[\"FAILURE\"].value_counts()"
   ]
  },
  {
   "cell_type": "code",
   "execution_count": null,
   "metadata": {
    "collapsed": true
   },
   "outputs": [],
   "source": []
  },
  {
   "cell_type": "code",
   "execution_count": 8,
   "metadata": {
    "collapsed": false
   },
   "outputs": [],
   "source": [
    "#df_data = df_data.fillna(0)"
   ]
  },
  {
   "cell_type": "code",
   "execution_count": 9,
   "metadata": {
    "collapsed": false
   },
   "outputs": [
    {
     "data": {
      "text/plain": [
       "<matplotlib.axes._subplots.AxesSubplot at 0x3c44a58>"
      ]
     },
     "execution_count": 9,
     "metadata": {},
     "output_type": "execute_result"
    },
    {
     "data": {
      "image/png": "[encoded data removed]",
      "text/plain": [
       "<matplotlib.figure.Figure at 0x3bac7b8>"
      ]
     },
     "metadata": {},
     "output_type": "display_data"
    }
   ],
   "source": [
    "df_data[\"AVG_AVG_SPEED\"].plot(kind=\"Line\")"
   ]
  },
  {
   "cell_type": "code",
   "execution_count": 10,
   "metadata": {
    "collapsed": false
   },
   "outputs": [
    {
     "data": {
      "text/plain": [
       "<matplotlib.axes._subplots.AxesSubplot at 0xdfe5940>"
      ]
     },
     "execution_count": 10,
     "metadata": {},
     "output_type": "execute_result"
    },
    {
     "data": {
      "image/png": "[encoded data removed]",
      "text/plain": [
       "<matplotlib.figure.Figure at 0xe006208>"
      ]
     },
     "metadata": {},
     "output_type": "display_data"
    }
   ],
   "source": [
    "pd.rolling_mean(df_data[\"MAX_AVG_SPEED\"], 100).plot()"
   ]
  },
  {
   "cell_type": "code",
   "execution_count": 11,
   "metadata": {
    "collapsed": false
   },
   "outputs": [
    {
     "data": {
      "text/plain": [
       "0    24768\n",
       "1     2323\n",
       "Name: FAILURE, dtype: int64"
      ]
     },
     "execution_count": 11,
     "metadata": {},
     "output_type": "execute_result"
    }
   ],
   "source": [
    "df_data[\"FAILURE\"].value_counts()"
   ]
  },
  {
   "cell_type": "code",
   "execution_count": null,
   "metadata": {
    "collapsed": true
   },
   "outputs": [],
   "source": []
  },
  {
   "cell_type": "code",
   "execution_count": null,
   "metadata": {
    "collapsed": true
   },
   "outputs": [],
   "source": []
  },
  {
   "cell_type": "code",
   "execution_count": null,
   "metadata": {
    "collapsed": true
   },
   "outputs": [],
   "source": []
  },
  {
   "cell_type": "code",
   "execution_count": 12,
   "metadata": {
    "collapsed": false
   },
   "outputs": [],
   "source": [
    "feature_columns = [u'MIN_AVG_INK_PRESSURE', u'MAX_AVG_INK_PRESSURE',\n",
    "       u'AVG_AVG_INK_PRESSURE', u'STD_AVG_INK_PRESSURE', u'MIN_AVG_SPEED',\n",
    "       u'MAX_AVG_SPEED', u'AVG_AVG_SPEED', u'STD_AVG_SPEED', u'MIN_MAX_SPEED',\n",
    "       u'MAX_MAX_SPEED', u'AVG_MAX_SPEED', u'STD_MAX_SPEED', 'FAILURE',\n",
    "       u'VARIANCE_AVG_INK_PRESSURE', u'VARIANCE_MAX_SPEED', u'VARIANCE_AVG_SPEED']"
   ]
  },
  {
   "cell_type": "code",
   "execution_count": 13,
   "metadata": {
    "collapsed": true
   },
   "outputs": [],
   "source": [
    "df_features = df_data[feature_columns]"
   ]
  },
  {
   "cell_type": "code",
   "execution_count": 14,
   "metadata": {
    "collapsed": false
   },
   "outputs": [
    {
     "data": {
      "text/plain": [
       "(27091, 16)"
      ]
     },
     "execution_count": 14,
     "metadata": {},
     "output_type": "execute_result"
    }
   ],
   "source": [
    "df_features.shape"
   ]
  },
  {
   "cell_type": "code",
   "execution_count": 15,
   "metadata": {
    "collapsed": false
   },
   "outputs": [
    {
     "name": "stdout",
     "output_type": "stream",
     "text": [
      "16254\n"
     ]
    }
   ],
   "source": [
    "train_index = int(df_features.shape[0] * 0.6)\n",
    "print train_index"
   ]
  },
  {
   "cell_type": "code",
   "execution_count": 16,
   "metadata": {
    "collapsed": false
   },
   "outputs": [],
   "source": [
    "df_train = df_features.iloc[0:train_index]\n",
    "df_test = df_features.iloc[train_index:]"
   ]
  },
  {
   "cell_type": "code",
   "execution_count": 17,
   "metadata": {
    "collapsed": false
   },
   "outputs": [
    {
     "data": {
      "text/plain": [
       "(16254, 16)"
      ]
     },
     "execution_count": 17,
     "metadata": {},
     "output_type": "execute_result"
    }
   ],
   "source": [
    "df_train.shape"
   ]
  },
  {
   "cell_type": "code",
   "execution_count": 18,
   "metadata": {
    "collapsed": false
   },
   "outputs": [
    {
     "data": {
      "text/plain": [
       "(10837, 16)"
      ]
     },
     "execution_count": 18,
     "metadata": {},
     "output_type": "execute_result"
    }
   ],
   "source": [
    "df_test.shape"
   ]
  },
  {
   "cell_type": "code",
   "execution_count": 19,
   "metadata": {
    "collapsed": false
   },
   "outputs": [
    {
     "data": {
      "text/plain": [
       "0    15198\n",
       "1     1056\n",
       "Name: FAILURE, dtype: int64"
      ]
     },
     "execution_count": 19,
     "metadata": {},
     "output_type": "execute_result"
    }
   ],
   "source": [
    "df_train['FAILURE'].value_counts()"
   ]
  },
  {
   "cell_type": "code",
   "execution_count": 20,
   "metadata": {
    "collapsed": false
   },
   "outputs": [
    {
     "data": {
      "text/plain": [
       "0    9570\n",
       "1    1267\n",
       "Name: FAILURE, dtype: int64"
      ]
     },
     "execution_count": 20,
     "metadata": {},
     "output_type": "execute_result"
    }
   ],
   "source": [
    "df_test['FAILURE'].value_counts()"
   ]
  },
  {
   "cell_type": "code",
   "execution_count": 21,
   "metadata": {
    "collapsed": false
   },
   "outputs": [],
   "source": [
    "X_train = df_train[df_train.columns]"
   ]
  },
  {
   "cell_type": "code",
   "execution_count": null,
   "metadata": {
    "collapsed": true
   },
   "outputs": [],
   "source": []
  },
  {
   "cell_type": "code",
   "execution_count": 22,
   "metadata": {
    "collapsed": false
   },
   "outputs": [],
   "source": [
    "df_train_features = df_train[df_train.columns.difference([\"FAILURE\"])]\n",
    "df_train_y = df_train['FAILURE']"
   ]
  },
  {
   "cell_type": "code",
   "execution_count": 23,
   "metadata": {
    "collapsed": false
   },
   "outputs": [],
   "source": [
    "X_train = np.array(df_train_features)\n",
    "X_train = X_train.astype(np.float32)"
   ]
  },
  {
   "cell_type": "code",
   "execution_count": 24,
   "metadata": {
    "collapsed": true
   },
   "outputs": [],
   "source": [
    "y_train = np.array(df_train_y)\n",
    "y_train = y_train.astype(np.float32)"
   ]
  },
  {
   "cell_type": "code",
   "execution_count": 25,
   "metadata": {
    "collapsed": true
   },
   "outputs": [],
   "source": [
    "df_test_features = df_test[df_test.columns.difference([\"FAILURE\"])]\n",
    "df_test_y = df_test['FAILURE']"
   ]
  },
  {
   "cell_type": "code",
   "execution_count": 26,
   "metadata": {
    "collapsed": true
   },
   "outputs": [],
   "source": [
    "X_test = np.array(df_test_features)\n",
    "X_test = X_test.astype(np.float32)"
   ]
  },
  {
   "cell_type": "code",
   "execution_count": 27,
   "metadata": {
    "collapsed": true
   },
   "outputs": [],
   "source": [
    "y_test = np.array(df_test_y)\n",
    "y_test = y_test.astype(np.float32)"
   ]
  },
  {
   "cell_type": "code",
   "execution_count": 28,
   "metadata": {
    "collapsed": true
   },
   "outputs": [],
   "source": [
    "scaler = preprocessing.StandardScaler().fit(X_train)\n",
    "X_train = scaler.transform(X_train)\n",
    "X_test = scaler.transform(X_test)"
   ]
  },
  {
   "cell_type": "code",
   "execution_count": 30,
   "metadata": {
    "collapsed": true
   },
   "outputs": [],
   "source": [
    "sample_weight = np.array([1 if i == 0 else 8 for i in y_train])"
   ]
  },
  {
   "cell_type": "code",
   "execution_count": null,
   "metadata": {
    "collapsed": true
   },
   "outputs": [],
   "source": []
  },
  {
   "cell_type": "code",
   "execution_count": 124,
   "metadata": {
    "collapsed": true
   },
   "outputs": [],
   "source": [
    "dtrain = xgb.DMatrix(X_train, label=y_train)\n",
    "dtest = xgb.DMatrix(X_test, label=y_test)"
   ]
  },
  {
   "cell_type": "code",
   "execution_count": 161,
   "metadata": {
    "collapsed": true
   },
   "outputs": [],
   "source": [
    "param_1 = {'silent':0,\n",
    "         'objective':'binary:logistic',\n",
    "         \"eval_metric\": \"auc\",\n",
    "         \"max_depth\": 3,\n",
    "         #\"subsample\": 1.0,\n",
    "         \"gamma\": 0.8,\n",
    "         #\"colsample_bytree\": 0.8,\n",
    "         #\"min_child_weight\": 0.8,\n",
    "         #\"max_delta_step\": 1,\n",
    "         #\"alpha\": 1.0,\n",
    "        #\"lambda\": 1.0,\n",
    "        \"eta\": 0.05}"
   ]
  },
  {
   "cell_type": "code",
   "execution_count": 163,
   "metadata": {
    "collapsed": false
   },
   "outputs": [
    {
     "name": "stderr",
     "output_type": "stream",
     "text": [
      "[0]\teval-auc:0.802473\ttrain-auc:0.697376\n",
      "[1]\teval-auc:0.802473\ttrain-auc:0.697376\n",
      "[2]\teval-auc:0.801863\ttrain-auc:0.698845\n",
      "[3]\teval-auc:0.801863\ttrain-auc:0.698845\n",
      "[4]\teval-auc:0.801863\ttrain-auc:0.698845\n",
      "[5]\teval-auc:0.801863\ttrain-auc:0.698845\n",
      "[6]\teval-auc:0.801863\ttrain-auc:0.698845\n",
      "[7]\teval-auc:0.836308\ttrain-auc:0.725144\n",
      "[8]\teval-auc:0.836366\ttrain-auc:0.726222\n",
      "[9]\teval-auc:0.836526\ttrain-auc:0.726256\n",
      "[10]\teval-auc:0.836596\ttrain-auc:0.726147\n",
      "[11]\teval-auc:0.836633\ttrain-auc:0.726356\n",
      "[12]\teval-auc:0.842732\ttrain-auc:0.750973\n",
      "[13]\teval-auc:0.842794\ttrain-auc:0.750907\n",
      "[14]\teval-auc:0.842513\ttrain-auc:0.751238\n",
      "[15]\teval-auc:0.842533\ttrain-auc:0.751920\n",
      "[16]\teval-auc:0.842521\ttrain-auc:0.751976\n",
      "[17]\teval-auc:0.842509\ttrain-auc:0.752194\n",
      "[18]\teval-auc:0.846264\ttrain-auc:0.752953\n",
      "[19]\teval-auc:0.840302\ttrain-auc:0.755102\n",
      "[20]\teval-auc:0.840202\ttrain-auc:0.755159\n",
      "[21]\teval-auc:0.840154\ttrain-auc:0.756434\n",
      "[22]\teval-auc:0.840466\ttrain-auc:0.756159\n",
      "[23]\teval-auc:0.840296\ttrain-auc:0.756252\n",
      "[24]\teval-auc:0.839396\ttrain-auc:0.756359\n",
      "[25]\teval-auc:0.835499\ttrain-auc:0.764703\n",
      "[26]\teval-auc:0.835177\ttrain-auc:0.764695\n",
      "[27]\teval-auc:0.833862\ttrain-auc:0.764639\n",
      "[28]\teval-auc:0.837761\ttrain-auc:0.772439\n",
      "[29]\teval-auc:0.837660\ttrain-auc:0.774294\n",
      "[30]\teval-auc:0.836712\ttrain-auc:0.776305\n",
      "[31]\teval-auc:0.836151\ttrain-auc:0.775842\n",
      "[32]\teval-auc:0.836170\ttrain-auc:0.775488\n",
      "[33]\teval-auc:0.839345\ttrain-auc:0.776981\n",
      "[34]\teval-auc:0.839664\ttrain-auc:0.779307\n",
      "[35]\teval-auc:0.839046\ttrain-auc:0.778560\n",
      "[36]\teval-auc:0.840459\ttrain-auc:0.780036\n",
      "[37]\teval-auc:0.842148\ttrain-auc:0.779742\n",
      "[38]\teval-auc:0.842286\ttrain-auc:0.780529\n",
      "[39]\teval-auc:0.843026\ttrain-auc:0.781108\n",
      "[40]\teval-auc:0.842935\ttrain-auc:0.782445\n",
      "[41]\teval-auc:0.843383\ttrain-auc:0.785222\n",
      "[42]\teval-auc:0.843481\ttrain-auc:0.786649\n",
      "[43]\teval-auc:0.844356\ttrain-auc:0.786398\n",
      "[44]\teval-auc:0.844483\ttrain-auc:0.787441\n",
      "[45]\teval-auc:0.844896\ttrain-auc:0.787919\n",
      "[46]\teval-auc:0.846496\ttrain-auc:0.790183\n",
      "[47]\teval-auc:0.846646\ttrain-auc:0.791705\n",
      "[48]\teval-auc:0.849492\ttrain-auc:0.793307\n",
      "[49]\teval-auc:0.849616\ttrain-auc:0.793803\n",
      "[50]\teval-auc:0.849490\ttrain-auc:0.797654\n",
      "[51]\teval-auc:0.852583\ttrain-auc:0.804017\n",
      "[52]\teval-auc:0.853845\ttrain-auc:0.804940\n",
      "[53]\teval-auc:0.855601\ttrain-auc:0.805228\n",
      "[54]\teval-auc:0.856189\ttrain-auc:0.807696\n",
      "[55]\teval-auc:0.856533\ttrain-auc:0.808158\n",
      "[56]\teval-auc:0.857893\ttrain-auc:0.810080\n",
      "[57]\teval-auc:0.857377\ttrain-auc:0.812807\n",
      "[58]\teval-auc:0.858400\ttrain-auc:0.813915\n",
      "[59]\teval-auc:0.857182\ttrain-auc:0.814410\n",
      "[60]\teval-auc:0.856268\ttrain-auc:0.816678\n",
      "[61]\teval-auc:0.857804\ttrain-auc:0.817248\n",
      "[62]\teval-auc:0.858613\ttrain-auc:0.818753\n",
      "[63]\teval-auc:0.859820\ttrain-auc:0.819748\n",
      "[64]\teval-auc:0.858814\ttrain-auc:0.819950\n",
      "[65]\teval-auc:0.859839\ttrain-auc:0.821254\n",
      "[66]\teval-auc:0.859969\ttrain-auc:0.823331\n",
      "[67]\teval-auc:0.860585\ttrain-auc:0.825040\n",
      "[68]\teval-auc:0.860605\ttrain-auc:0.826674\n",
      "[69]\teval-auc:0.861007\ttrain-auc:0.827288\n",
      "[70]\teval-auc:0.860903\ttrain-auc:0.826915\n",
      "[71]\teval-auc:0.862665\ttrain-auc:0.828003\n",
      "[72]\teval-auc:0.866740\ttrain-auc:0.828856\n",
      "[73]\teval-auc:0.865861\ttrain-auc:0.829513\n",
      "[74]\teval-auc:0.865672\ttrain-auc:0.830083\n",
      "[75]\teval-auc:0.865911\ttrain-auc:0.831299\n",
      "[76]\teval-auc:0.867743\ttrain-auc:0.831876\n",
      "[77]\teval-auc:0.867656\ttrain-auc:0.832322\n",
      "[78]\teval-auc:0.866885\ttrain-auc:0.832097\n",
      "[79]\teval-auc:0.866476\ttrain-auc:0.833091\n",
      "[80]\teval-auc:0.866364\ttrain-auc:0.834674\n",
      "[81]\teval-auc:0.868266\ttrain-auc:0.834952\n",
      "[82]\teval-auc:0.867730\ttrain-auc:0.835253\n",
      "[83]\teval-auc:0.867465\ttrain-auc:0.836082\n",
      "[84]\teval-auc:0.867482\ttrain-auc:0.837150\n",
      "[85]\teval-auc:0.868461\ttrain-auc:0.837390\n",
      "[86]\teval-auc:0.867490\ttrain-auc:0.838096\n",
      "[87]\teval-auc:0.867312\ttrain-auc:0.838351\n",
      "[88]\teval-auc:0.866579\ttrain-auc:0.839188\n",
      "[89]\teval-auc:0.866928\ttrain-auc:0.839479\n",
      "[90]\teval-auc:0.866688\ttrain-auc:0.840478\n",
      "[91]\teval-auc:0.866821\ttrain-auc:0.840571\n",
      "[92]\teval-auc:0.866886\ttrain-auc:0.842510\n",
      "[93]\teval-auc:0.866477\ttrain-auc:0.843749\n",
      "[94]\teval-auc:0.866883\ttrain-auc:0.844056\n",
      "[95]\teval-auc:0.867079\ttrain-auc:0.844601\n",
      "[96]\teval-auc:0.868107\ttrain-auc:0.846670\n",
      "[97]\teval-auc:0.868141\ttrain-auc:0.846770\n",
      "[98]\teval-auc:0.868335\ttrain-auc:0.848220\n",
      "[99]\teval-auc:0.868259\ttrain-auc:0.848244\n"
     ]
    }
   ],
   "source": [
    "res = {}\n",
    "watchlist = [(dtest, 'eval'), (dtrain, 'train')]\n",
    "model = xgb.train(param_1, dtrain, 100, watchlist, verbose_eval=True)\n"
   ]
  },
  {
   "cell_type": "code",
   "execution_count": 164,
   "metadata": {
    "collapsed": false
   },
   "outputs": [],
   "source": [
    "y_pred = model.predict(dtest)"
   ]
  },
  {
   "cell_type": "code",
   "execution_count": null,
   "metadata": {
    "collapsed": true
   },
   "outputs": [],
   "source": []
  },
  {
   "cell_type": "code",
   "execution_count": 170,
   "metadata": {
    "collapsed": false
   },
   "outputs": [
    {
     "data": {
      "text/plain": [
       "0.010491082"
      ]
     },
     "execution_count": 170,
     "metadata": {},
     "output_type": "execute_result"
    }
   ],
   "source": []
  },
  {
   "cell_type": "code",
   "execution_count": null,
   "metadata": {
    "collapsed": true
   },
   "outputs": [],
   "source": []
  },
  {
   "cell_type": "code",
   "execution_count": null,
   "metadata": {
    "collapsed": true
   },
   "outputs": [],
   "source": []
  },
  {
   "cell_type": "code",
   "execution_count": null,
   "metadata": {
    "collapsed": true
   },
   "outputs": [],
   "source": []
  },
  {
   "cell_type": "code",
   "execution_count": null,
   "metadata": {
    "collapsed": true
   },
   "outputs": [],
   "source": []
  },
  {
   "cell_type": "code",
   "execution_count": null,
   "metadata": {
    "collapsed": true
   },
   "outputs": [],
   "source": []
  },
  {
   "cell_type": "code",
   "execution_count": null,
   "metadata": {
    "collapsed": true
   },
   "outputs": [],
   "source": []
  },
  {
   "cell_type": "code",
   "execution_count": 110,
   "metadata": {
    "collapsed": true
   },
   "outputs": [],
   "source": [
    "#logreg = linear_model.LogisticRegression(class_weight={0: 0.1, 1: 0.9})\n",
    "#logreg = linear_model.LogisticRegression(solver=\"lbfgs\", C=0.001)\n",
    "logreg = svm.SVC(probability=True, kernel=\"linear\", C=0.001)\n",
    "#logreg = KNeighborsClassifier(n_neighbors=5)"
   ]
  },
  {
   "cell_type": "code",
   "execution_count": 111,
   "metadata": {
    "collapsed": false
   },
   "outputs": [
    {
     "data": {
      "text/plain": [
       "SVC(C=0.001, cache_size=200, class_weight=None, coef0=0.0,\n",
       "  decision_function_shape=None, degree=3, gamma='auto', kernel='rbf',\n",
       "  max_iter=-1, probability=True, random_state=None, shrinking=True,\n",
       "  tol=0.001, verbose=False)"
      ]
     },
     "execution_count": 111,
     "metadata": {},
     "output_type": "execute_result"
    }
   ],
   "source": [
    "logreg.fit(X_train, y_train, sample_weight=sample_weight)\n",
    "#logreg.fit(X_train, y_train)"
   ]
  },
  {
   "cell_type": "code",
   "execution_count": 112,
   "metadata": {
    "collapsed": false
   },
   "outputs": [
    {
     "data": {
      "text/plain": [
       "0.88308572483159542"
      ]
     },
     "execution_count": 112,
     "metadata": {},
     "output_type": "execute_result"
    }
   ],
   "source": [
    "logreg.score(X_test, y_test)"
   ]
  },
  {
   "cell_type": "code",
   "execution_count": 147,
   "metadata": {
    "collapsed": false
   },
   "outputs": [],
   "source": [
    "#y_pred = logreg.decision_function(X_test)\n",
    "#y_pred_class = logreg.predict(X_test)"
   ]
  },
  {
   "cell_type": "code",
   "execution_count": 114,
   "metadata": {
    "collapsed": false
   },
   "outputs": [],
   "source": [
    "#logreg.decision_function(X_test)"
   ]
  },
  {
   "cell_type": "code",
   "execution_count": 115,
   "metadata": {
    "collapsed": false
   },
   "outputs": [],
   "source": [
    "#y_pred.fill(0)"
   ]
  },
  {
   "cell_type": "code",
   "execution_count": 116,
   "metadata": {
    "collapsed": false
   },
   "outputs": [
    {
     "name": "stdout",
     "output_type": "stream",
     "text": [
      "             precision    recall  f1-score   support\n",
      "\n",
      "Non failure       0.88      1.00      0.94      9570\n",
      "    Failure       0.00      0.00      0.00      1267\n",
      "\n",
      "avg / total       0.78      0.88      0.83     10837\n",
      "\n"
     ]
    },
    {
     "name": "stderr",
     "output_type": "stream",
     "text": [
      "C:\\Anaconda2_64\\lib\\site-packages\\sklearn\\metrics\\classification.py:1074: UndefinedMetricWarning: Precision and F-score are ill-defined and being set to 0.0 in labels with no predicted samples.\n",
      "  'precision', 'predicted', average, warn_for)\n"
     ]
    }
   ],
   "source": [
    "#print classification_report(y_test, y_pred_class, target_names=['Non failure', 'Failure'])"
   ]
  },
  {
   "cell_type": "code",
   "execution_count": 117,
   "metadata": {
    "collapsed": false
   },
   "outputs": [],
   "source": [
    "#confusion_matrix(y_test, y_pred)"
   ]
  },
  {
   "cell_type": "code",
   "execution_count": 165,
   "metadata": {
    "collapsed": false
   },
   "outputs": [
    {
     "name": "stdout",
     "output_type": "stream",
     "text": [
      "0.868258930376\n"
     ]
    }
   ],
   "source": [
    "fpr, tpr, _ = roc_curve(y_test, y_pred)\n",
    "roc_auc = auc(fpr, tpr)\n",
    "print roc_auc\n",
    "\n",
    "# logreg = 0.81"
   ]
  },
  {
   "cell_type": "code",
   "execution_count": 166,
   "metadata": {
    "collapsed": false
   },
   "outputs": [
    {
     "data": {
      "image/png": "[encoded data removed]",
      "text/plain": [
       "<matplotlib.figure.Figure at 0x1bc5e9e8>"
      ]
     },
     "metadata": {},
     "output_type": "display_data"
    }
   ],
   "source": [
    "plt.figure()\n",
    "plt.plot(fpr, tpr, label='ROC curve (area = %0.2f)' % roc_auc)\n",
    "plt.plot([0, 1], [0, 1], 'k--')\n",
    "plt.xlim([0.0, 1.0])\n",
    "plt.ylim([0.0, 1.05])\n",
    "plt.xlabel('False Positive Rate')\n",
    "plt.ylabel('True Positive Rate')\n",
    "plt.title('Receiver operating characteristic example')\n",
    "plt.legend(loc=\"lower right\")\n",
    "plt.show()\n"
   ]
  },
  {
   "cell_type": "code",
   "execution_count": null,
   "metadata": {
    "collapsed": true
   },
   "outputs": [],
   "source": []
  }
 ],
 "metadata": {
  "kernelspec": {
   "display_name": "Python 2",
   "language": "python",
   "name": "python2"
  },
  "language_info": {
   "codemirror_mode": {
    "name": "ipython",
    "version": 2
   },
   "file_extension": ".py",
   "mimetype": "text/x-python",
   "name": "python",
   "nbconvert_exporter": "python",
   "pygments_lexer": "ipython2",
   "version": "2.7.11"
  }
 },
 "nbformat": 4,
 "nbformat_minor": 0
}
